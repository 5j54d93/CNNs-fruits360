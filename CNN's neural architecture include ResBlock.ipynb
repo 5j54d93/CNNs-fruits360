{
  "nbformat": 4,
  "nbformat_minor": 0,
  "metadata": {
    "kernelspec": {
      "display_name": "Python 3",
      "language": "python",
      "name": "python3"
    },
    "language_info": {
      "codemirror_mode": {
        "name": "ipython",
        "version": 3
      },
      "file_extension": ".py",
      "mimetype": "text/x-python",
      "name": "python",
      "nbconvert_exporter": "python",
      "pygments_lexer": "ipython3",
      "version": "3.7.6"
    },
    "colab": {
      "name": "CNN's neural architecture include ResBlock.ipynb",
      "provenance": [],
      "collapsed_sections": [],
      "include_colab_link": true
    },
    "accelerator": "GPU"
  },
  "cells": [
    {
      "cell_type": "markdown",
      "metadata": {
        "id": "view-in-github",
        "colab_type": "text"
      },
      "source": [
        "<a href=\"https://colab.research.google.com/github/5j54d93/CNNs-fruits360/blob/main/CNN's%20neural%20architecture%20include%20ResBlock.ipynb\" target=\"_parent\"><img src=\"https://colab.research.google.com/assets/colab-badge.svg\" alt=\"Open In Colab\"/></a>"
      ]
    },
    {
      "cell_type": "markdown",
      "metadata": {
        "id": "7ksklfy08H5D"
      },
      "source": [
        "# Download Fruits360 data set"
      ]
    },
    {
      "cell_type": "code",
      "metadata": {
        "id": "F7d2nD0V8H5D"
      },
      "source": [
        "import tensorflow as tf\n",
        "\n",
        "url = 'https://github.com/Horea94/Fruit-Images-Dataset/archive/master.zip'\n",
        "name = 'fruits360'\n",
        "file = tf.keras.utils.get_file(name, url, extract=True)"
      ],
      "execution_count": null,
      "outputs": []
    },
    {
      "cell_type": "code",
      "metadata": {
        "id": "MPPQkmKV8H5H"
      },
      "source": [
        "import os\n",
        "\n",
        "# 指定訓練資料夾目錄\n",
        "training_path = os.path.sep.join(file.split(os.path.sep)[0:-1]+['Fruit-Images-Dataset-master','Training'])\n",
        "\n",
        "# 指定測試資料夾目錄\n",
        "test_path     = os.path.sep.join(file.split(os.path.sep)[0:-1]+['Fruit-Images-Dataset-master','Test'])\n",
        "\n",
        "# 定義訓練影像資料產生器\n",
        "train_datagen = tf.keras.preprocessing.image.ImageDataGenerator(rescale=1./255,validation_split=0.1)\n",
        "# 定義測試影像資料產生器\n",
        "test_datagen = tf.keras.preprocessing.image.ImageDataGenerator(rescale=1./255)\n",
        "\n",
        "# 訓練資料產生器\n",
        "train_generator = train_datagen.flow_from_directory(training_path,target_size=(100,100),batch_size=32,class_mode='sparse',subset='training')\n",
        "# 驗證資料產生器\n",
        "valid_generator = train_datagen.flow_from_directory(training_path,target_size=(100,100),batch_size=32,class_mode='sparse',subset='validation')\n",
        "# 測試資料產生器\n",
        "test_generator  = test_datagen.flow_from_directory(test_path,target_size=(100,100),batch_size=32,class_mode='sparse')"
      ],
      "execution_count": null,
      "outputs": []
    },
    {
      "cell_type": "code",
      "metadata": {
        "id": "i8TD6RwY8H5K"
      },
      "source": [
        "#類別名稱與代號\n",
        "print(list(train_generator.class_indices.keys())[1])\n",
        "\n",
        "#訓練樣本數量與類別數量\n",
        "print(train_generator.n, train_generator.num_classes)"
      ],
      "execution_count": null,
      "outputs": []
    },
    {
      "cell_type": "markdown",
      "metadata": {
        "id": "EbAqKOOQ8H5N"
      },
      "source": [
        "# 顯示部分訓練資料"
      ]
    },
    {
      "cell_type": "code",
      "metadata": {
        "id": "nqcYg1jo8H5O"
      },
      "source": [
        "import matplotlib.pyplot as plt\n",
        "\n",
        "indices_class = {v:name for name,v in train_generator.class_indices.items()}\n",
        "\n",
        "(X,y)=train_generator.next()\n",
        "\n",
        "plt.figure(figsize=(16,8))\n",
        "for i in range(X.shape[0]):\n",
        "    plt.subplot(4,8,i+1)\n",
        "    plt.imshow(X[i])\n",
        "    plt.title(indices_class[int(y[i])])\n",
        "    plt.axis(False)\n",
        "plt.tight_layout()    \n",
        "plt.show()        "
      ],
      "execution_count": null,
      "outputs": []
    },
    {
      "cell_type": "markdown",
      "metadata": {
        "id": "vfDQJzcq8H5R"
      },
      "source": [
        "# 顯示部分驗證資料"
      ]
    },
    {
      "cell_type": "code",
      "metadata": {
        "id": "M08JspZv8H5R"
      },
      "source": [
        "(X,y)=valid_generator.next()\n",
        "plt.figure(figsize=(16,8))\n",
        "for i in range(X.shape[0]):\n",
        "    plt.subplot(4,8,i+1)\n",
        "    plt.imshow(X[i])\n",
        "    plt.title(indices_class[int(y[i])])\n",
        "    plt.axis(False)\n",
        "plt.tight_layout()    \n",
        "plt.show()"
      ],
      "execution_count": null,
      "outputs": []
    },
    {
      "cell_type": "markdown",
      "metadata": {
        "id": "hEOq0E_u8H5U"
      },
      "source": [
        "# 顯示部分測試資料"
      ]
    },
    {
      "cell_type": "code",
      "metadata": {
        "id": "jz0fHyQa8H5U"
      },
      "source": [
        "(X,y)=test_generator.next()\n",
        "plt.figure(figsize=(16,8))\n",
        "for i in range(X.shape[0]):\n",
        "    plt.subplot(4,8,i+1)\n",
        "    plt.imshow(X[i])\n",
        "    plt.title(indices_class[int(y[i])])\n",
        "    plt.axis(False)\n",
        "plt.tight_layout()    \n",
        "plt.show()     "
      ],
      "execution_count": null,
      "outputs": []
    },
    {
      "cell_type": "markdown",
      "metadata": {
        "id": "uXhxuVQM8H5X"
      },
      "source": [
        "# 定義卷積神經網路架構"
      ]
    },
    {
      "cell_type": "code",
      "metadata": {
        "id": "2xfpMxvC8H5Y"
      },
      "source": [
        "images = keras.layers.Input(x_train.shape[1:])\n",
        "\n",
        "x = keras.layers.Conv2D(filters=16, kernel_size=[1,1], padding='same')(images)\n",
        "block = keras.layers.Conv2D(filters=16, kernel_size=[3,3], padding=\"same\")(x)\n",
        "block = keras.layers.BatchNormalization()(block)\n",
        "block = keras.layers.Activation(\"relu\")(block)\n",
        "block = keras.layers.Conv2D(filters=16, kernel_size=[3,3],padding=\"same\")(block)\n",
        "net = keras.layers.add([x,block])\n",
        "net = keras.layers.BatchNormalization()(net)\n",
        "net = keras.layers.Activation(\"relu\")(net)\n",
        "net = keras.layers.MaxPooling2D(pool_size=(2,2),name=\"block_1\")(net)\n",
        "x = keras.layers.Conv2D(filters=32, kernel_size=[1,1], padding='same')(net)\n",
        "block = keras.layers.Conv2D(filters=32, kernel_size=[3,3], padding=\"same\")(x)\n",
        "block = keras.layers.BatchNormalization()(block)\n",
        "block = keras.layers.Activation(\"relu\")(block)\n",
        "block = keras.layers.Conv2D(filters=32, kernel_size=[3,3],padding=\"same\")(block)\n",
        "net = keras.layers.add([x,block])net=keras.layers.BatchNormalization()(net)\n",
        "net = keras.layers.Activation(\"relu\")(net)\n",
        "net = keras.layers.MaxPooling2D(pool_size=(2,2),name=\"block_2\")(net)\n",
        "\n",
        "x = keras.layers.Conv2D(filters=64, kernel_size=[1,1], padding='same')(net)\n",
        "block = keras.layers.Conv2D(filters=64, kernel_size=[3,3], padding=\"same\")(x)\n",
        "block = keras.layers.BatchNormalization()(block)\n",
        "block = keras.layers.Activation(\"relu\")(block)\n",
        "block = keras.layers.Conv2D(filters=64, kernel_size=[3,3],padding=\"same\")(block)\n",
        "net = keras.layers.add([x,block])\n",
        "net = keras.layers.Activation(\"relu\", name=\"block_3\")(net)\n",
        "\n",
        "net = keras.layers.BatchNormalization()(net)\n",
        "net = keras.layers.Dropout(0.25)(net)\n",
        "\n",
        "net = keras.layers.GlobalAveragePooling2D()(net)\n",
        "net = keras.layers.Dense(units=nclasses,activation=\"softmax\")(net)\n",
        "\n",
        "model = keras.models.Model(inputs=images,outputs=net)\n",
        "\n",
        "model.summary() "
      ],
      "execution_count": null,
      "outputs": []
    },
    {
      "cell_type": "markdown",
      "metadata": {
        "id": "8tSMop0O8H5a"
      },
      "source": [
        "# 訓練卷積神經網路"
      ]
    },
    {
      "cell_type": "code",
      "metadata": {
        "id": "hpVkhGdF8H5b"
      },
      "source": [
        "history = model.fit(train_generator,epochs=10,validation_data=valid_generator)"
      ],
      "execution_count": null,
      "outputs": []
    },
    {
      "cell_type": "markdown",
      "metadata": {
        "id": "Z-IRdZVg8H5d"
      },
      "source": [
        "# 顯示訓練損失歷史曲線"
      ]
    },
    {
      "cell_type": "code",
      "metadata": {
        "id": "tmvjRPUS8H5e"
      },
      "source": [
        "plt.figure(figsize=(10,4))\n",
        "plt.subplot(1,2,1)\n",
        "plt.plot(history.history['loss'],label='loss')\n",
        "plt.plot(history.history['val_loss'],label='val_loss')\n",
        "plt.xlabel('Epoch')\n",
        "plt.ylabel('Loss')\n",
        "plt.grid(True)\n",
        "plt.legend()\n",
        "plt.subplot(1,2,2)\n",
        "plt.plot(history.history['accuracy'],label='accuracy')\n",
        "plt.plot(history.history['val_accuracy'],label='val_accuracy')\n",
        "plt.xlabel('Epoch')\n",
        "plt.ylabel('Accuracy')\n",
        "plt.grid(True)\n",
        "plt.legend()\n",
        "plt.tight_layout()\n",
        "plt.show()"
      ],
      "execution_count": null,
      "outputs": []
    },
    {
      "cell_type": "markdown",
      "metadata": {
        "id": "I4fW4nhS8H5i"
      },
      "source": [
        "# 顯示部分測試結果"
      ]
    },
    {
      "cell_type": "code",
      "metadata": {
        "scrolled": false,
        "id": "RtjGxBxP8H5i"
      },
      "source": [
        "import numpy as np\n",
        "(X,y)=test_generator.next()\n",
        "py   = model.predict(X)\n",
        "plt.figure(figsize=(16,32))\n",
        "for i in range(X.shape[0]):\n",
        "    plt.subplot(8,4,i+1)\n",
        "    plt.imshow(X[i])\n",
        "    plt.title(indices_class[np.argmax(py[i])]+'/'+indices_class[int(y[i])])\n",
        "    plt.axis(False)\n",
        "plt.tight_layout()    \n",
        "plt.show()   "
      ],
      "execution_count": null,
      "outputs": []
    }
  ]
}